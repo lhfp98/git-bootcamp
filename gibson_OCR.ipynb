{
  "nbformat": 4,
  "nbformat_minor": 0,
  "metadata": {
    "colab": {
      "provenance": [],
      "authorship_tag": "ABX9TyMIJwM6KJJOV+CDD9f6V0np",
      "include_colab_link": true
    },
    "kernelspec": {
      "name": "python3",
      "display_name": "Python 3"
    },
    "language_info": {
      "name": "python"
    }
  },
  "cells": [
    {
      "cell_type": "markdown",
      "metadata": {
        "id": "view-in-github",
        "colab_type": "text"
      },
      "source": [
        "<a href=\"https://colab.research.google.com/github/lhfp98/git-bootcamp/blob/main/gibson_OCR.ipynb\" target=\"_parent\"><img src=\"https://colab.research.google.com/assets/colab-badge.svg\" alt=\"Open In Colab\"/></a>"
      ]
    },
    {
      "cell_type": "code",
      "execution_count": 18,
      "metadata": {
        "colab": {
          "base_uri": "https://localhost:8080/"
        },
        "id": "RbGQpWwB5iWA",
        "outputId": "58d8284b-5b38-499e-f8a4-e40f0d3ed74e"
      },
      "outputs": [
        {
          "output_type": "stream",
          "name": "stdout",
          "text": [
            "Extracted Date: June\n"
          ]
        }
      ],
      "source": [
        "\n",
        "import re\n",
        "import pdfplumber\n",
        "\n",
        "import re\n",
        "import pdfplumber\n",
        "\n",
        "def extract_date_from_pdf(pdf_path):\n",
        "    try:\n",
        "        # Open the PDF file\n",
        "        with pdfplumber.open(pdf_path) as pdf:\n",
        "            # Get the first page\n",
        "            first_page = pdf.pages[0]\n",
        "            # Extract text from the first page\n",
        "            text = first_page.extract_text()\n",
        "\n",
        "            # Normalize the text (strip extra spaces or formatting issues)\n",
        "            normalized_text = \" \".join(text.split())\n",
        "\n",
        "            # Updated regex pattern to capture ordinal suffixes and proper month names\n",
        "            date_pattern = r'\\b\\d{1,2}(?:st|nd|rd|th)?\\s+(January|February|March|April|May|June|July|August|September|October|November|December)\\s+\\d{4}\\b'\n",
        "            date_matches = re.findall(date_pattern, normalized_text, re.IGNORECASE)\n",
        "\n",
        "            if date_matches:\n",
        "                return date_matches[0]\n",
        "            else:\n",
        "                return \"Date not found\"\n",
        "    except Exception as e:\n",
        "        return f\"Error processing file {pdf_path}: {e}\"\n",
        "\n",
        "# Path to the uploaded file\n",
        "pdf_path = \"/gibson/2020 GIBSON GAS - WEEK (26).pdf\"\n",
        "\n",
        "# Call the function\n",
        "date = extract_date_from_pdf(pdf_path)\n",
        "print(f\"Extracted Date: {date}\")\n",
        "\n",
        "\n"
      ]
    },
    {
      "cell_type": "markdown",
      "source": [
        "TESTE MED BILDE PROSSESERING\n"
      ],
      "metadata": {
        "id": "nnrPJr2QAJ7D"
      }
    },
    {
      "cell_type": "code",
      "source": [
        "import re\n",
        "import pytesseract\n",
        "from PIL import Image\n",
        "import pdfplumber\n",
        "\n",
        "# Path to the PDF file\n",
        "pdf_path = \"/gibson/2021 GIBSON GAS - WEEK (26).pdf\"\n",
        "\n",
        "def extract_date_from_pdf(pdf_path):\n",
        "    try:\n",
        "        # Open the PDF file\n",
        "        with pdfplumber.open(pdf_path) as pdf:\n",
        "            # Get the first page\n",
        "            first_page = pdf.pages[0]\n",
        "            # Extract text from the first page\n",
        "            text = first_page.extract_text()\n",
        "\n",
        "            # Regex pattern for the date\n",
        "            date_pattern = r'\\b\\d{1,2}(?:st|nd|rd|th)?\\s+(January|February|March|April|May|June|July|August|September|October|November|December)\\s+\\d{4}\\b'\n",
        "            date_matches = re.findall(date_pattern, text, re.IGNORECASE)\n",
        "\n",
        "            if date_matches:\n",
        "                return date_matches[0]\n",
        "\n",
        "            # If date is not found, fallback to OCR\n",
        "            print(\"Date not found using regex. Falling back to OCR...\")\n",
        "            return extract_date_from_top_right_corner(first_page)\n",
        "    except Exception as e:\n",
        "        return f\"Error processing PDF: {e}\"\n",
        "\n",
        "def extract_date_from_top_right_corner(page):\n",
        "    try:\n",
        "        # Convert the first page to an image\n",
        "        pdf_image = page.to_image(resolution=300)  # Increase resolution for better OCR\n",
        "        original_image = pdf_image.original\n",
        "\n",
        "        # Debug: Save the full-page image to check alignment\n",
        "        original_image.save(\"/gibson/full_page_image.png\")\n",
        "\n",
        "        # Crop the top-right corner of the image (adjust as necessary)\n",
        "        width, height = original_image.size\n",
        "        crop_box = (int(width * 0.7), 0, width, int(height * 0.15))  # Focus on the top-right corner\n",
        "        cropped_image = original_image.crop(crop_box)\n",
        "\n",
        "        # Debug: Save the cropped image for verification\n",
        "        cropped_image.save(\"/gibson/cropped_top_right.png\")\n",
        "\n",
        "        # Convert the cropped image to grayscale\n",
        "        grayscale_image = cropped_image.convert('L')\n",
        "\n",
        "        # Debug: Save the grayscale image for verification\n",
        "        grayscale_image.save(\"/gibson/cropped_grayscale.png\")\n",
        "\n",
        "        # Perform OCR to extract text\n",
        "        text = pytesseract.image_to_string(grayscale_image)\n",
        "\n",
        "        # Debug: Print the OCR result for verification\n",
        "        print(f\"OCR Result: {text}\")\n",
        "\n",
        "        # Regex pattern for the date\n",
        "        date_pattern = r'\\b\\d{1,2}(?:st|nd|rd|th)?\\s+(January|February|March|April|May|June|July|August|September|October|November|December)\\s+\\d{4}\\b'\n",
        "        match = re.search(date_pattern, text, re.IGNORECASE)\n",
        "\n",
        "        if match:\n",
        "            return match.group(0)\n",
        "        else:\n",
        "            return \"Date not found in OCR\"\n",
        "    except Exception as e:\n",
        "        return f\"Error processing image: {e}\"\n",
        "\n",
        "# Call the function\n",
        "date = extract_date_from_pdf(pdf_path)\n",
        "print(f\"Extracted Date: {date}\")\n"
      ],
      "metadata": {
        "colab": {
          "base_uri": "https://localhost:8080/"
        },
        "id": "g0EFM1FF90RN",
        "outputId": "29a29a96-1814-4816-dc17-05f873a40bb5"
      },
      "execution_count": 25,
      "outputs": [
        {
          "output_type": "stream",
          "name": "stdout",
          "text": [
            "Date not found using regex. Falling back to OCR...\n",
            "Extracted Date: Error processing image: /usr/bin/tesseract is not installed or it's not in your PATH. See README file for more information.\n"
          ]
        }
      ]
    },
    {
      "cell_type": "code",
      "source": [
        "import os\n",
        "import re\n",
        "import pdfplumber\n",
        "\n",
        "# Path to the folder containing PDF files\n",
        "folder_path = \"/gibson/2021 GIBSON GAS - WEEK (26).pdf\"\n",
        "\n",
        "def extract_date_from_pdf(pdf_path):\n",
        "    try:\n",
        "        # Open the PDF file\n",
        "        with pdfplumber.open(pdf_path) as pdf:\n",
        "            # Get the first page\n",
        "            first_page = pdf.pages[0]\n",
        "            # Extract text from the first page\n",
        "            text = first_page.extract_text()\n",
        "\n",
        "            # Updated regex pattern to capture ordinal suffixes and proper month names\n",
        "            date_pattern = r'\\b\\d{1,2}(?:st|nd|rd|th)?\\s+(January|February|March|April|May|June|July|August|September|October|November|December)\\s+\\d{4}\\b'\n",
        "            date_matches = re.findall(date_pattern, text, re.IGNORECASE)\n",
        "\n",
        "            if date_matches:\n",
        "                return date_matches[0]\n",
        "            else:\n",
        "                return \"Date not found\"\n",
        "    except Exception as e:\n",
        "        return f\"Error processing file {pdf_path}: {e}\"\n",
        "\n",
        "def extract_dates_from_folder(folder_path):\n",
        "    dates = {}\n",
        "    # List all files in the folder\n",
        "    for filename in os.listdir(folder_path):\n",
        "        if filename.endswith(\".pdf\"):\n",
        "            pdf_path = os.path.join(folder_path, filename)\n",
        "            date = extract_date_from_pdf(pdf_path)\n",
        "            dates[filename] = date\n",
        "    return dates\n",
        "\n",
        "# Extract dates from all PDFs in the folder\n",
        "dates = extract_dates_from_folder(folder_path)\n",
        "\n",
        "# Print the extracted dates\n",
        "for filename, date in dates.items():\n",
        "    print(f\"{filename}: {date}\")\n"
      ],
      "metadata": {
        "colab": {
          "base_uri": "https://localhost:8080/",
          "height": 332
        },
        "id": "mc1UttRj5xMw",
        "outputId": "de7b7902-593b-4b62-92ff-21e0a4ff548c"
      },
      "execution_count": 13,
      "outputs": [
        {
          "output_type": "error",
          "ename": "NotADirectoryError",
          "evalue": "[Errno 20] Not a directory: '/gibson/2021 GIBSON GAS - WEEK (26).pdf'",
          "traceback": [
            "\u001b[0;31m---------------------------------------------------------------------------\u001b[0m",
            "\u001b[0;31mNotADirectoryError\u001b[0m                        Traceback (most recent call last)",
            "\u001b[0;32m<ipython-input-13-5933f5574c83>\u001b[0m in \u001b[0;36m<cell line: 39>\u001b[0;34m()\u001b[0m\n\u001b[1;32m     37\u001b[0m \u001b[0;34m\u001b[0m\u001b[0m\n\u001b[1;32m     38\u001b[0m \u001b[0;31m# Extract dates from all PDFs in the folder\u001b[0m\u001b[0;34m\u001b[0m\u001b[0;34m\u001b[0m\u001b[0m\n\u001b[0;32m---> 39\u001b[0;31m \u001b[0mdates\u001b[0m \u001b[0;34m=\u001b[0m \u001b[0mextract_dates_from_folder\u001b[0m\u001b[0;34m(\u001b[0m\u001b[0mfolder_path\u001b[0m\u001b[0;34m)\u001b[0m\u001b[0;34m\u001b[0m\u001b[0;34m\u001b[0m\u001b[0m\n\u001b[0m\u001b[1;32m     40\u001b[0m \u001b[0;34m\u001b[0m\u001b[0m\n\u001b[1;32m     41\u001b[0m \u001b[0;31m# Print the extracted dates\u001b[0m\u001b[0;34m\u001b[0m\u001b[0;34m\u001b[0m\u001b[0m\n",
            "\u001b[0;32m<ipython-input-13-5933f5574c83>\u001b[0m in \u001b[0;36mextract_dates_from_folder\u001b[0;34m(folder_path)\u001b[0m\n\u001b[1;32m     29\u001b[0m     \u001b[0mdates\u001b[0m \u001b[0;34m=\u001b[0m \u001b[0;34m{\u001b[0m\u001b[0;34m}\u001b[0m\u001b[0;34m\u001b[0m\u001b[0;34m\u001b[0m\u001b[0m\n\u001b[1;32m     30\u001b[0m     \u001b[0;31m# List all files in the folder\u001b[0m\u001b[0;34m\u001b[0m\u001b[0;34m\u001b[0m\u001b[0m\n\u001b[0;32m---> 31\u001b[0;31m     \u001b[0;32mfor\u001b[0m \u001b[0mfilename\u001b[0m \u001b[0;32min\u001b[0m \u001b[0mos\u001b[0m\u001b[0;34m.\u001b[0m\u001b[0mlistdir\u001b[0m\u001b[0;34m(\u001b[0m\u001b[0mfolder_path\u001b[0m\u001b[0;34m)\u001b[0m\u001b[0;34m:\u001b[0m\u001b[0;34m\u001b[0m\u001b[0;34m\u001b[0m\u001b[0m\n\u001b[0m\u001b[1;32m     32\u001b[0m         \u001b[0;32mif\u001b[0m \u001b[0mfilename\u001b[0m\u001b[0;34m.\u001b[0m\u001b[0mendswith\u001b[0m\u001b[0;34m(\u001b[0m\u001b[0;34m\".pdf\"\u001b[0m\u001b[0;34m)\u001b[0m\u001b[0;34m:\u001b[0m\u001b[0;34m\u001b[0m\u001b[0;34m\u001b[0m\u001b[0m\n\u001b[1;32m     33\u001b[0m             \u001b[0mpdf_path\u001b[0m \u001b[0;34m=\u001b[0m \u001b[0mos\u001b[0m\u001b[0;34m.\u001b[0m\u001b[0mpath\u001b[0m\u001b[0;34m.\u001b[0m\u001b[0mjoin\u001b[0m\u001b[0;34m(\u001b[0m\u001b[0mfolder_path\u001b[0m\u001b[0;34m,\u001b[0m \u001b[0mfilename\u001b[0m\u001b[0;34m)\u001b[0m\u001b[0;34m\u001b[0m\u001b[0;34m\u001b[0m\u001b[0m\n",
            "\u001b[0;31mNotADirectoryError\u001b[0m: [Errno 20] Not a directory: '/gibson/2021 GIBSON GAS - WEEK (26).pdf'"
          ]
        }
      ]
    },
    {
      "cell_type": "code",
      "source": [
        "# Extract dates from all PDFs in the folder\n",
        "dates = extract_dates_from_folder(folder_path)\n",
        "\n",
        "# Filter and print files where the date was not found\n",
        "print(\"\\nFiles with 'Date not found':\")\n",
        "for filename, date in dates.items():\n",
        "    if date == \"Date not found\":\n",
        "        print(f\"{filename}: {date}\")\n"
      ],
      "metadata": {
        "colab": {
          "base_uri": "https://localhost:8080/"
        },
        "id": "nhMevkpS7rLj",
        "outputId": "271f20ee-4318-4905-f3df-338b426fa80f"
      },
      "execution_count": 9,
      "outputs": [
        {
          "output_type": "stream",
          "name": "stdout",
          "text": [
            "\n",
            "Files with 'Date not found':\n",
            "2021 GIBSON GAS - WEEK (34).pdf: Date not found\n",
            "2021 GIBSON GAS - WEEK (26).pdf: Date not found\n",
            "2021 GIBSON GAS - WEEK (25).pdf: Date not found\n"
          ]
        }
      ]
    },
    {
      "cell_type": "code",
      "source": [],
      "metadata": {
        "id": "Uoaq2mhb8EZY"
      },
      "execution_count": null,
      "outputs": []
    }
  ]
}